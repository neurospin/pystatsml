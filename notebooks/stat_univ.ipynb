{
 "cells": [
  {
   "cell_type": "markdown",
   "metadata": {},
   "source": [
    "# Univariate statistics\n",
    "\n",
    "Basic univariate statistics should be the first point of call during all data exploration. Most univariate statistics are based on the linear model which is one of the main models in machine learning. Univariate statistics enable the researcher to:\n",
    "\n",
    "\n",
    "- Discover associations between a variable of interest and potential predictors.\n",
    "\n",
    "- Identify outliers.\n",
    "\n",
    "- Assess the prediction performances of machine learning predictors.\n",
    "\n",
    "\n",
    "\n",
    "## Estimators of the main statistical measures\n",
    "\n",
    "\n",
    "### Mean\n",
    "\n",
    "Properties of the expected value operator $\\operatorname{E}(\\cdot)$ of a random variable $X$\n",
    "\n",
    "\\begin{align}\n",
    "    E(X + c) &= E(X) + c \\\\ \n",
    "    E(X + Y) &= E(X) + E(Y) \\\\ \n",
    "    E(aX)    &= a E(X)\n",
    "\\end{align}\n",
    "\n",
    "The estimator $\\bar{x}$ on a sample of size $n$: $x = x_1, ..., x_n$ is given by\n",
    "$$\n",
    "    \\bar{x} = \\frac{1}{n} \\sum_i x_i\n",
    "$$\n",
    "\n",
    "$\\bar{x}$ is itself a random variable with properties:\n",
    "\n",
    "- $E(\\bar{x}) = \\bar{x}$,\n",
    "\n",
    "- $Var(\\bar{x}) = \\frac{Var(X)}{n}$.\n",
    "\n",
    "### Variance\n",
    "\n",
    "$$\n",
    "    Var(X) = E((X - E(X))^2) =  E(X^2) - (E(X))^2\n",
    "$$\n",
    "\n",
    "The estimator is\n",
    "$$\n",
    "    \\sigma_x^2 = \\frac{1}{n-1} \\sum_i (x_i - \\bar{x})^2\n",
    "$$\n",
    "\n",
    "Note here the subtracted 1 degree of freedom (df) in the divisor. In standard statistical practice, $df=1$ provides an unbiased estimator of the variance of a hypothetical infinite population. With $df=0$ it instead provides a maximum likelihood estimate of the variance for normally distributed variables.\n",
    "\n",
    "### Standard deviation\n",
    "\n",
    "$$\n",
    "    Std(X) = \\sqrt{Var(X)}\n",
    "$$\n",
    "\n",
    "The estimator is simply $\\sigma_x = \\sqrt{\\sigma_x^2}$.\n",
    "\n",
    "### Covariance\n",
    "\n",
    "$$\n",
    "    Cov(X, Y) = E((X - E(X))(Y - E(Y))) =  E(XY) - E(X)E(Y).\n",
    "$$\n",
    "\n",
    "Properties: \n",
    "$$\n",
    "    \\operatorname{Cov}(X, X) = \\operatorname{Var}(X)\\\\\n",
    "    \\operatorname{Cov}(X, Y) = \\operatorname{Cov}(Y, X)\\\\\n",
    "    \\operatorname{Cov}(cX, Y) = c \\operatorname{Cov}(X, Y)\\\\\n",
    "    \\operatorname{Cov}(X+c, Y) = \\operatorname{Cov}(X, Y)\\\\\n",
    "$$\n",
    "\n",
    "The estimator with $df=1$ is\n",
    "$$\n",
    "    \\sigma_{xy} = \\frac{1}{n-1} \\sum_i (x_i - \\bar{x}) (y_i - \\bar{y}).\n",
    "$$\n",
    "\n",
    "### Correlation\n",
    "\n",
    "$$\n",
    "    Cor(X, Y) = \\frac{Cov(X, Y)}{Std(X)Std(Y)}\n",
    "$$\n",
    "\n",
    "The estimator is\n",
    "$$\n",
    "    \\rho_{xy} = \\frac{\\sigma_{xy}}{\\sigma_{x} \\sigma_{y}}.\n",
    "$$\n",
    "\n",
    "### Standard Error (SE) \n",
    "\n",
    "The standard error (SE) is the standard deviation (of the sampling distribution) of a statistic: \n",
    "$$\n",
    "    SE(X) = \\frac{Std(X)}{\\sqrt{n}}.\n",
    "$$\n",
    "\n",
    "It is most commonly considered for the mean with the estimator $SE(\\bar{x}) = \\sigma_x/\\sqrt{n}$.\n",
    "\n",
    "### Exercises\n",
    "\n",
    "- Generate 2 random samples: $x \\sim N(1.78, 0.1)$ and $y \\sim N(1.66, 0.1)$, both of size 10.\n",
    "\n",
    "- Compute $\\bar{x}, \\sigma_x, \\sigma_{xy}$ (`xbar, xvar, xycov`) using only the `np.sum()` operation. \n",
    "Explore the `np.` module to find out which numpy functions performs the same computations and compare them (using `assert`) with your previous results."
   ]
  },
  {
   "cell_type": "markdown",
   "metadata": {},
   "source": [
    "## Main distributions\n",
    "\n",
    "### Normal distribution\n",
    "\n",
    "The normal distribution, noted $\\mathcal{N}$, is useful because of the central limit theorem (CLT) which states that:\n",
    "\n",
    "_\"given certain conditions, the arithmetic mean of a sufficiently large number of iterates of independent random variables, each with a well-defined expected value and well-defined variance, will be approximately normally distributed, regardless of the underlying distribution.\"_\n",
    "\n",
    "Parameters of normal distribution: $\\mu$ mean (location) and $\\sigma^2>0$ variance.\n",
    "Estimators: $\\bar{x}$ and $\\sigma_{x}$."
   ]
  },
  {
   "cell_type": "code",
   "execution_count": 10,
   "metadata": {},
   "outputs": [
    {
     "data": {
      "text/plain": [
       "[<matplotlib.lines.Line2D at 0x7f8749ab6110>]"
      ]
     },
     "execution_count": 10,
     "metadata": {},
     "output_type": "execute_result"
    },
    {
     "data": {
      "image/png": "[encoded data removed]",
      "text/plain": [
       "<matplotlib.figure.Figure at 0x7f8749d53650>"
      ]
     },
     "metadata": {},
     "output_type": "display_data"
    }
   ],
   "source": [
    "import numpy as np\n",
    "import matplotlib.pyplot as plt\n",
    "from scipy.stats import norm\n",
    "%matplotlib inline\n",
    "\n",
    "mu = 0 # mean \n",
    "variance = 2 #variance\n",
    "sigma = np.sqrt(variance) #standard deviation\n",
    "x = np.linspace(mu-3*variance,mu+3*variance, 100)\n",
    "plt.plot(x,norm.pdf(x, mu, sigma))"
   ]
  },
  {
   "cell_type": "markdown",
   "metadata": {},
   "source": [
    "### The Chi-Square distribution\n",
    "\n",
    "The chi-square or $\\chi_n^2$ distribution with $n$ degrees of freedom (df) is the distribution of a sum of the squares of $n$ independent standard normal random variables $\\mathcal{N}(0, 1)$. Let $X \\sim \\mathcal{N}(\\mu, \\sigma^2)$, then, $Z=(X - \\mu)/\\sigma \\sim \\mathcal{N}(0, 1)$, then:\n",
    "\n",
    "- The squared standard $Z^2 \\sim \\chi_1^2$ (one df).\n",
    "\n",
    "- **The distribution of sum of squares** of $n$ normal random variables: $\\sum_i^n Z_i^2 \\sim \\chi_n^2$\n",
    "\n",
    "The sum of two $\\chi^2$ RV with $p$ and $q$ df is a $\\chi^2$ RV with $p+q$ df. This is useful when summing/subtracting sum of squares."
   ]
  },
  {
   "cell_type": "markdown",
   "metadata": {},
   "source": [
    "### The Fisher's F-distribution\n",
    "\n",
    "The $F$-distribution, $F_{n, p}$, with $n$ and $p$ degrees of freedom is the ratio of two independant $\\chi^2$ variables. Let $X \\sim \\chi_n^2$ and $Y \\sim \\chi_p^2$ then: \n",
    "$$\n",
    "    F_{n, p} = \\frac{X/n}{Y/p}\n",
    "$$\n",
    "\n",
    "The $F$-distribution plays a central role in hypothesis testing answering the question: **Are two variances equals?**"
   ]
  },
  {
   "cell_type": "code",
   "execution_count": 1,
   "metadata": {},
   "outputs": [
    {
     "data": {
      "image/png": "[encoded data removed]",
      "text/plain": [
       "<matplotlib.figure.Figure at 0x7ffa74127898>"
      ]
     },
     "metadata": {},
     "output_type": "display_data"
    }
   ],
   "source": [
    "from scipy.stats import f\n",
    "\n",
    "\n",
    "fvalues = np.linspace(.1, 5, 100)\n",
    "\n",
    "# pdf(x, df1, df2): Probability density function at x of F.\n",
    "plt.plot(fvalues, f.pdf(fvalues, 1, 30), 'b-', label=\"F(1, 30)\")\n",
    "plt.plot(fvalues, f.pdf(fvalues, 5, 30), 'r-', label=\"F(5, 30)\")\n",
    "plt.legend()\n",
    "\n",
    "# cdf(x, df1, df2): Cumulative distribution function of F.\n",
    "# ie. \n",
    "proba_at_f_inf_3 = f.cdf(3, 1, 30) # P(F(1,30) < 3)\n",
    "\n",
    "# ppf(q, df1, df2): Percent point function (inverse of cdf) at q of F.\n",
    "f_at_proba_inf_95 = f.ppf(.95, 1, 30) # q such P(F(1,30) < .95)\n",
    "assert f.cdf(f_at_proba_inf_95, 1, 30) == .95\n",
    "\n",
    "# sf(x, df1, df2): Survival function (1 - cdf) at x of F.\n",
    "proba_at_f_sup_3 = f.sf(3, 1, 30) # P(F(1,30) > 3)\n",
    "assert  proba_at_f_inf_3 + proba_at_f_sup_3 == 1\n",
    "\n",
    "# p-value: P(F(1, 30)) < 0.05\n",
    "low_proba_fvalues = fvalues[fvalues > f_at_proba_inf_95]\n",
    "plt.fill_between(low_proba_fvalues, 0, f.pdf(low_proba_fvalues, 1, 30),\n",
    "                 alpha=.8, label=\"P < 0.05\")\n",
    "plt.show()"
   ]
  },
  {
   "cell_type": "markdown",
   "metadata": {},
   "source": [
    "### The  Student's $t$-distribution\n",
    "\n",
    "Let $M \\sim \\mathcal{N}(0, 1)$ and $V \\sim \\chi_n^2$. The $t$-distribution, $T_n$, with $n$ degrees of freedom is the ratio:\n",
    "$$\n",
    "    T_n = \\frac{M}{\\sqrt{V/n}}\n",
    "$$\n",
    "\n",
    "The distribution of the difference between an estimated parmeter and its true (or assumed) value divided by the standard deviation of the estimated parameter (standard error) follow a $t$-distribution. **Is this parameters different from a given value?**"
   ]
  },
  {
   "cell_type": "markdown",
   "metadata": {},
   "source": [
    "## Testing pairwise associations\n",
    "\n",
    "Mass univariate statistical analysis: explore association betweens pairs of variable. \n",
    "\n",
    "- In statistics, a **categorical variable** or **factor** is a variable that can take on one of a limited, and usually fixed, number of possible values, thus assigning each individual to a particular group or \"category\". The levels are the possibles values of the variable. Number of levels = 2: binomial; Number of levels > 2: multinomial. There is no intrinsic ordering to the categories.  For example, gender is a categorical variable having two categories (male and female) and there is no intrinsic ordering to the categories.  Hair color is also a categorical variable having a number of categories (blonde, brown, brunette, red, etc.) and again, there is no agreed way to order these from highest to lowest.  A purely categorical variable is one that simply allows you to assign categories but you cannot clearly order the variables.  If the variable has a clear ordering, then that variable would be an ordinal variable, as described below.\n",
    "\n",
    "- An **ordinal variable** is similar to a categorical variable.  The difference between the two is that there is a clear ordering of the variables.  For example, suppose you have a variable, economic status, with three categories (low, medium and high).  In addition to being able to classify people into these three categories, you can order the categories as low, medium and high.\n",
    "\n",
    "- A **continuous** or **quantitative variable** $x \\in \\mathbb{R}$ is one that can take any value in a range of possible values, possibly infinite.  E.g.: Salary, Experience in years.\n",
    "\n",
    "What statistical test should I use? See: http://www.ats.ucla.edu/stat/mult_pkg/whatstat/"
   ]
  },
  {
   "cell_type": "markdown",
   "metadata": {},
   "source": [
    "### Pearson correlation test (quantitative ~ quantitative)\n",
    "\n",
    "Test the correlation coeficient of two quantitative variables. The test calculates a Pearson correlation coefficient and the $p$-value for testing non-correlation."
   ]
  },
  {
   "cell_type": "code",
   "execution_count": 2,
   "metadata": {
    "collapsed": true
   },
   "outputs": [],
   "source": [
    "import numpy as np\n",
    "import scipy.stats as stats\n",
    "n = 50\n",
    "x = np.random.normal(size=n)\n",
    "y = 2 * x + np.random.normal(size=n)\n",
    "\n",
    "# Compute with scipy\n",
    "cor, pval = stats.pearsonr(x, y)"
   ]
  },
  {
   "cell_type": "markdown",
   "metadata": {},
   "source": [
    "###  One sample $t$-test (quantitative ~ constant)\n",
    "\n",
    "The one-sample $t$-test is used to determine whether a sample comes from a population with a specific mean. For example you want to test if the average height of a population is $1.75~m$.\n",
    "\n",
    "#### 1. Model the data\n",
    "\n",
    "Assume that height is normally distributed: $X \\sim \\mathcal{N}(\\mu, \\sigma)$.\n",
    "\n",
    "#### 2. Fit: estimate the model parameters\n",
    "\n",
    "$\\bar{x}, \\sigma_x$ are the estimators of $\\mu, \\sigma$.\n",
    "\n",
    "#### 3. Test\n",
    "\n",
    "In testing the null hypothesis that the population mean is equal to a specified value $\\mu_0=1.75$, one uses the statistic:\n",
    "\n",
    "$$\n",
    "    t = \\frac{\\bar{x} - \\mu_0}{\\sigma_x/\\sqrt{n}} \n",
    "$$\n",
    "\n",
    "Although the parent population does not need to be normally distributed, the distribution of the population of sample means, $\\overline{x}$, is assumed to be normal. By the central limit theorem, if the sampling of the parent population is independent then the sample means will be approximately normal.\n",
    "\n",
    "#### Exercise\n",
    "\n",
    "- Given the following samples, test whether its true mean is 1.75.\n",
    "\n",
    "Warning, when computing the std or the variance, set `ddof=1`. The default\n",
    "value, `ddof=0`, leads to the biased estimator of the variance."
   ]
  },
  {
   "cell_type": "code",
   "execution_count": 3,
   "metadata": {
    "collapsed": true
   },
   "outputs": [],
   "source": [
    "import numpy as np\n",
    "import scipy.stats as stats\n",
    "import matplotlib.pyplot as plt\n",
    "np.random.seed(seed=42)  # make example reproducible\n",
    "n = 100\n",
    "x = np.random.normal(loc=1.78, scale=.1, size=n)"
   ]
  },
  {
   "cell_type": "markdown",
   "metadata": {},
   "source": [
    "- Compute the $t$-value (`tval`)\n",
    "\n",
    "- Plot the `T(n-1)` distribution for 100 tvalues values within $[0, 10]$. Draw `P(T(n-1)>tval)` \n",
    "  i.e. color the surface defined by $x$ values larger than `tval` below the `T(n-1)`.\n",
    "  Use the code."
   ]
  },
  {
   "cell_type": "code",
   "execution_count": 5,
   "metadata": {},
   "outputs": [
    {
     "data": {
      "image/png": "[encoded data removed]",
      "text/plain": [
       "<matplotlib.figure.Figure at 0x7ffa47e22fd0>"
      ]
     },
     "metadata": {},
     "output_type": "display_data"
    }
   ],
   "source": [
    "# compute with scipy\n",
    "tval, pval = stats.ttest_1samp(x, 1.75)\n",
    "\n",
    "#tval = 2.1598800019529265 # assume the t-value\n",
    "tvalues = np.linspace(-10, 10, 100)\n",
    "plt.plot(tvalues, stats.t.pdf(tvalues, n-1), 'b-', label=\"T(n-1)\")\n",
    "upper_tval_tvalues = tvalues[tvalues > tval]\n",
    "plt.fill_between(upper_tval_tvalues, 0, stats.t.pdf(upper_tval_tvalues, n-1), alpha=.8, label=\"p-value\")\n",
    "_ = plt.legend()"
   ]
  },
  {
   "cell_type": "markdown",
   "metadata": {},
   "source": [
    "- Compute the $p$-value: `P(T(n-1)>tval)`.\n",
    "\n",
    "- The $p$-value is one-sided: a two-sided test would test `P(T(n-1) > tval)` and `P(T(n-1) < -tval)`. What would the two-sided $p$-value be?\n",
    "  \n",
    "- Compare the two-sided $p$-value with the one obtained by `stats.ttest_1samp`\n",
    "using `assert np.allclose(arr1, arr2)`."
   ]
  },
  {
   "cell_type": "markdown",
   "metadata": {
    "collapsed": true
   },
   "source": [
    "### Two sample $t$-test  (quantitative ~ categorial (2 levels))\n",
    "\n",
    "The two-sample $t$-test (Snedecor and Cochran, 1989) is used to determine if two population means are equal. There are several variations on this test.\n",
    "If data are paired (e.g. 2 measures, before and after treatment for each individual) use the one-sample $t$-test of the difference. The variances of the two samples may be assumed to be equal (a.k.a. homoscedasticity) or unequal (a.k.a. heteroscedasticity).\n",
    "\n",
    "#### 1. Model the data\n",
    "\n",
    "Assume that the two random variables are normally distributed: $x \\sim \\mathcal{N}(\\mu_x, \\sigma_x), y \\sim \\mathcal{N}(\\mu_y, \\sigma_y)$.\n",
    "\n",
    "#### 2. Fit: estimate the model parameters\n",
    "\n",
    "Estimate means and variances: $\\bar{x}, \\sigma_x, \\bar{y}, \\sigma_y$.\n",
    "\n",
    "#### 3. $t$-test\n",
    "\n",
    "Generally $t$-tests form the ratio between the amount of information explained by the model (i.e. the effect size) with the square root of the unexplained variance.\n",
    "\n",
    "In testing the null hypothesis that the two population means are equal, one uses the $t$-statistic of unpaired two samples $t$-test:\n",
    "\n",
    "$$\n",
    "    t = \\frac{\\text{effect size}}{\\sqrt{\\text{unexplained variance}}} \n",
    "$$\n",
    "\n",
    "![title](images/two_samples_ttest.png)\n",
    "\n",
    "##### Equal or unequal sample sizes, equal variance\n",
    "\n",
    "This test is used only when it can be assumed that the two distributions have the same variance. (When this assumption is violated, see below.) The $t$ statistic, that is used to test whether the means are different, can be calculated as follows:\n",
    "\n",
    "$$\n",
    "t = \\frac{\\bar{x} - \\bar{y}}{\\sigma \\cdot \\sqrt{\\frac{1}{n_x}+\\frac{1}{n_y}}},\n",
    "$$\n",
    "\n",
    "where\n",
    "\n",
    "$$\n",
    "\\sigma = \\sqrt{\\frac{\\sigma_{x}^2(n_x-1)+\\sigma_{y}^2(n_y-1)}{n_x+n_y-2}}\n",
    "$$\n",
    "\n",
    "is an estimator of the common standard deviation of the two samples: it is defined in this way so that its square is an unbiased estimator of the common variance whether or not the population means are the same.\n",
    "\n",
    "##### Equal or unequal sample sizes, unequal variances (Welch's $t$-test)\n",
    "Welch's $t$-test defines the $t$ statistic as\n",
    "\n",
    "$$\n",
    "t = \\frac{\\bar{x} - \\bar{y}}{\\sqrt{\\frac{\\sigma^2_x}{n_x} + \\frac{\\sigma^2_y}{n_y}}}.\n",
    "$$\n",
    "\n",
    "To compute the $p$-value one needs the degrees of freedom associated with this variance estimate. It is approximated using the Welch–Satterthwaite equation:\n",
    "\n",
    "$$\n",
    "\\nu \\approx \\frac{\\left(\\frac{\\sigma^2_x}{n_x} + \\frac{\\sigma^2_y}{n_y}\\right)^2}{\\frac{\\sigma^4_x}{n_x^2(n_x-1)} + \\frac{\\sigma^4_y}{n_y^2(n_y-1)}}.\n",
    "$$\n",
    "\n",
    "#### Exercise\n",
    "\n",
    "Given the following two samples, test whether their means are equal using the **standard t-test, assuming equal variance**."
   ]
  },
  {
   "cell_type": "code",
   "execution_count": 4,
   "metadata": {
    "collapsed": true
   },
   "outputs": [],
   "source": [
    "import scipy.stats as stats\n",
    "nx, ny = 50, 25\n",
    "x = np.random.normal(loc=1.76, scale=0.1, size=nx)\n",
    "y = np.random.normal(loc=1.70, scale=0.12, size=ny)\n",
    "\n",
    "# Compute with scipy\n",
    "tval, pval = stats.ttest_ind(x, y, equal_var=True)"
   ]
  },
  {
   "cell_type": "markdown",
   "metadata": {},
   "source": [
    "- Compute the $t$-value.\n",
    "\n",
    "- Compute the $p$-value.\n",
    "\n",
    "- The $p$-value is one-sided: a two-sided test would test `P(T > tval)`\n",
    "  and `P(T < -tval)`. What would the two sided $p$-value be?\n",
    "\n",
    "- Compare the two-sided $p$-value with the one obtained by `stats.ttest_ind`\n",
    "using `assert np.allclose(arr1, arr2)`."
   ]
  },
  {
   "cell_type": "markdown",
   "metadata": {},
   "source": [
    "### ANOVA $F$-test (quantitative ~ categorial (>2 levels))\n",
    "\n",
    "Analysis of variance (ANOVA) provides a statistical test of whether or not the means of several groups are equal, and therefore generalizes the $t$-test to more than two groups. ANOVAs are useful for comparing (testing) three or more means (groups or variables) for statistical significance. It is conceptually similar to multiple two-sample $t$-tests, but is less conservative.\n",
    "\n",
    "Here we will consider one-way ANOVA with one independent variable.\n",
    "\n",
    "#### 1. Model the data\n",
    "\n",
    "A company has applied three marketing strategies to three samples of customers in order increase their business volume. The marketing is asking whether the strategies led to different increases of business volume. Let $y_1, y_2$ and $y_3$ be the three samples of business volume increase.\n",
    "\n",
    "Here we assume that the three populations were sampled from three random variables that are normally distributed. I.e., $Y_1 \\sim N(\\mu_1, \\sigma_1), Y_2 \\sim N(\\mu_2, \\sigma_2)$ and $Y_3 \\sim N(\\mu_3, \\sigma_3)$.\n",
    "\n",
    "#### 2. Fit: estimate the model parameters\n",
    "\n",
    "Estimate means and variances: $\\bar{y}_i, \\sigma_i,\\;\\; \\forall i \\in \\{1, 2, 3\\}$.\n",
    "\n",
    "#### 3. $F$-test\n",
    "\n",
    "**Source**: https://en.wikipedia.org/wiki/F-test\n",
    "\n",
    "The ANOVA $F$-test can be used to assess whether any of the strategies is on average superior, or inferior, to the others versus the null hypothesis that all four strategies yield the same mean response (increase of business volume). This is an example of an \"omnibus\" test, meaning that a single test is performed to detect any of several possible differences. Alternatively, we could carry out pair-wise tests among the strategies. The advantage of the ANOVA $F$-test is that we do not need to pre-specify which strategies are to be compared, and we do not need to adjust for making multiple comparisons. The disadvantage of the ANOVA $F$-test is that if we reject the null hypothesis, we do not know which strategies can be said to be significantly different from the others.\n",
    "\n",
    "The formula for the one-way ANOVA F-test statistic is\n",
    "\n",
    "$$\n",
    "F = \\frac{\\text{explained variance}}{\\text{unexplained variance}},\n",
    "$$\n",
    "\n",
    "or\n",
    "\n",
    "$$\n",
    "F = \\frac{\\text{between-group variability}}{\\text{within-group variability}}.\n",
    "$$\n",
    "\n",
    "The \"explained variance\", or \"between-group variability\" is\n",
    "\n",
    "$$\n",
    "\\sum_i n_i(\\bar{Y}_{i\\cdot} - \\bar{Y})^2/(K-1),\n",
    "$$\n",
    "\n",
    "where $\\bar{Y}_{i\\cdot}$ denotes the sample mean in the $i$th group, $n_i$ is the number of observations in the $i$th group, $\\bar{Y}$ denotes the overall mean of the data, and $K$ denotes the number of groups.\n",
    "\n",
    "The \"unexplained variance\", or \"within-group variability\" is\n",
    "\n",
    "$$\n",
    "\\sum_{ij} (Y_{ij}-\\bar{Y}_{i\\cdot})^2/(N-K), \n",
    "$$\n",
    "\n",
    "where $Y_{ij}$ is the $j$th observation in the $i$th out of $K$ groups and $N$ is the overall sample size. This $F$-statistic follows the $F$-distribution with $K-1$ and $N-K$ degrees of freedom under the null hypothesis. The statistic will be large if the between-group variability is large relative to the within-group variability, which is unlikely to happen if the population means of the groups all have the same value.\n",
    "\n",
    "Note that when there are only two groups for the one-way ANOVA F-test, $F=t^2$ where $t$ is the Student's $t$ statistic.\n",
    "\n",
    "#### Exercise\n",
    "\n",
    "Perform an ANOVA on the following dataset\n",
    "\n",
    "- Compute between and within variances\n",
    "- Compute $F$-value: `fval`\n",
    "- Compare the $p$-value with the one obtained by `stats.f_oneway` using `assert np.allclose(arr1, arr2)`"
   ]
  },
  {
   "cell_type": "code",
   "execution_count": 11,
   "metadata": {
    "collapsed": true
   },
   "outputs": [],
   "source": [
    "# dataset\n",
    "mu_k = np.array([1, 2, 3])    # means of 3 samples\n",
    "sd_k = np.array([1, 1, 1])    # sd of 3 samples\n",
    "n_k = np.array([10, 20, 30])  # sizes of 3 samples\n",
    "grp = [0, 1, 2]               # group labels\n",
    "n = np.sum(n_k)\n",
    "label = np.hstack([[k] * n_k[k] for k in [0, 1, 2]])\n",
    "\n",
    "y = np.zeros(n)\n",
    "for k in grp:\n",
    "    y[label == k] = np.random.normal(mu_k[k], sd_k[k], n_k[k])\n",
    "\n",
    "# Compute with scipy\n",
    "fval, pval = stats.f_oneway(y[label == 0], y[label == 1], y[label == 2])"
   ]
  },
  {
   "cell_type": "markdown",
   "metadata": {},
   "source": [
    "### Chi-square, $\\chi^2$ (categorial ~ categorial)\n",
    "\n",
    "Computes the chi-square, $\\chi^2$, statistic and $p$-value for the hypothesis test of independence of frequencies in the observed contingency table. The observed frequencies are tested against an expected contingency table obtained by computing expected frequencies based on the marginal sums under the assumption of independence."
   ]
  },
  {
   "cell_type": "code",
   "execution_count": 12,
   "metadata": {},
   "outputs": [
    {
     "name": "stdout",
     "output_type": "stream",
     "text": [
      "Observed table:\n",
      "---------------\n",
      "meta           0  1\n",
      "canalar_tumor      \n",
      "0              4  1\n",
      "1              2  8\n",
      "Statistics:\n",
      "-----------\n",
      "Chi2 = 2.812500, pval = 0.093533\n",
      "Expected table:\n",
      "---------------\n",
      "[[ 2.  3.]\n",
      " [ 4.  6.]]\n"
     ]
    }
   ],
   "source": [
    "import numpy as np\n",
    "import pandas as pd\n",
    "import scipy.stats as stats\n",
    "\n",
    "# Dataset:\n",
    "# 15 samples:\n",
    "# 10 first with canalar tumor, 5 last without\n",
    "canalar_tumor = np.array([1] * 10 + [0] * 5)\n",
    "# 8 first with metastasis, 6 without, the last with.\n",
    "meta = np.array([1] * 8 + [0] * 6 + [1])\n",
    "\n",
    "crosstab = pd.crosstab(canalar_tumor, meta, rownames=['canalar_tumor'], colnames=['meta'])\n",
    "print(\"Observed table:\")\n",
    "print(\"---------------\")\n",
    "print(crosstab)\n",
    "\n",
    "chi2, pval, dof, expected = stats.chi2_contingency(crosstab)\n",
    "print(\"Statistics:\")\n",
    "print(\"-----------\")\n",
    "print(\"Chi2 = %f, pval = %f\" % (chi2, pval))\n",
    "print(\"Expected table:\")\n",
    "print(\"---------------\")\n",
    "print(expected)"
   ]
  },
  {
   "cell_type": "markdown",
   "metadata": {},
   "source": [
    "Computing expected cross-table"
   ]
  },
  {
   "cell_type": "code",
   "execution_count": 13,
   "metadata": {},
   "outputs": [
    {
     "name": "stdout",
     "output_type": "stream",
     "text": [
      "Canalar tumor frequency? Yes: 0.33 No: 0.67\n",
      "Metastasis frequency? Yes: 0.40 No: 0.60\n",
      "Expected frequecies:\n",
      "[[ 0.13333333  0.2       ]\n",
      " [ 0.26666667  0.4       ]]\n",
      "Expected cross-table:\n",
      "[[ 2.  3.]\n",
      " [ 4.  6.]]\n"
     ]
    }
   ],
   "source": [
    "# Compute expected cross-table based on proportion\n",
    "meta_marg = crosstab.sum(axis=0)\n",
    "meta_freq = meta_marg / meta_marg.sum()\n",
    "canalar_tumor_marg = crosstab.sum(axis=1)\n",
    "canalar_tumor_freq = canalar_tumor_marg / canalar_tumor_marg.sum()\n",
    "\n",
    "print('Canalar tumor frequency? Yes: %.2f' % canalar_tumor_freq[0], 'No: %.2f' % canalar_tumor_freq[1])\n",
    "print('Metastasis frequency? Yes: %.2f' % meta_freq[0], 'No: %.2f' % meta_freq[1])\n",
    "\n",
    "print('Expected frequecies:')\n",
    "print(np.outer(canalar_tumor_freq, meta_freq))\n",
    "\n",
    "print('Expected cross-table:')\n",
    "print(np.outer(canalar_tumor_freq, meta_freq) * len(canalar_tumor))"
   ]
  },
  {
   "cell_type": "markdown",
   "metadata": {},
   "source": [
    "### Exercise\n",
    "\n",
    "Write a function `univar_stat(df, target, variables)` that computes the parametric statistics and $p$-values between the `target` variable (provided as as string) and all `variables` (provided as a list of string) of the pandas DataFrame `df`. The target is a quantitative variable but variables may be quantitative or qualitative. The function returns a DataFrame with four columns: `variable`, `test`, `value`, `p_value`.\n",
    "\n",
    "Apply it to the salary dataset available at https://raw.github.com/neurospin/pystatsml/master/data/salary_table.csv, with target being `S`: salaries for IT staff in a corporation."
   ]
  },
  {
   "cell_type": "markdown",
   "metadata": {},
   "source": [
    "## Non-parametric test of pairwise associations\n",
    "\n",
    "### Spearman rank-order correlation (quantitative ~ quantitative)\n",
    "\n",
    "The Spearman correlation is a non-parametric measure of the monotonicity of the relationship between two datasets. Unlike the Pearson correlation, the Spearman correlation does not assume that both datasets are normally distributed. Like other correlation coefficients, this one varies between -1 and +1 with 0 implying no correlation. Correlations of -1 or +1 imply an exact monotonic relationship. Positive correlations imply that as $x$ increases, so does $y$. Negative correlations imply that as $x$ increases, $y$ decreases."
   ]
  },
  {
   "cell_type": "code",
   "execution_count": 7,
   "metadata": {},
   "outputs": [
    {
     "name": "stdout",
     "output_type": "stream",
     "text": [
      "Non-Parametric Spearman cor test, cor: 0.2996, pval: 0.0345\n"
     ]
    },
    {
     "name": "stderr",
     "output_type": "stream",
     "text": [
      "/home/ed203246/anaconda3/lib/python3.5/site-packages/matplotlib/__init__.py:898: UserWarning: axes.color_cycle is deprecated and replaced with axes.prop_cycle; please use the latter.\n",
      "  warnings.warn(self.msg_depr % (key, alt_key))\n"
     ]
    },
    {
     "name": "stdout",
     "output_type": "stream",
     "text": [
      "Parametric Pearson cor test: cor: 0.0426, pval: 0.7687\n"
     ]
    },
    {
     "data": {
      "image/png": "[encoded data removed]",
      "text/plain": [
       "<matplotlib.figure.Figure at 0x7ffa402ee668>"
      ]
     },
     "metadata": {},
     "output_type": "display_data"
    }
   ],
   "source": [
    "import numpy as np\n",
    "import scipy.stats as stats\n",
    "import pandas as pd\n",
    "import matplotlib.pyplot as plt\n",
    "import seaborn as sns\n",
    "\n",
    "np.random.seed(seed=42)  # make example reproducible\n",
    "\n",
    "n = 50\n",
    "noutliers = 10\n",
    "x = np.random.normal(size=n)\n",
    "y = 2 * x + np.random.normal(size=n)\n",
    "y[:noutliers] = np.random.normal(loc=-10, size=noutliers)  # Add 40 outliers\n",
    "outlier = np.array([\"N\"] * n)\n",
    "outlier[:noutliers] = \"Y\"\n",
    "\n",
    "# Compute with scipy\n",
    "cor, pval = stats.spearmanr(x, y)\n",
    "print(\"Non-Parametric Spearman cor test, cor: %.4f, pval: %.4f\" % (cor, pval))\n",
    "\n",
    "\n",
    "# Plot distribution + pairwise scatter plot\n",
    "df = pd.DataFrame(dict(x=x, y=y, outlier=outlier))\n",
    "g = sns.PairGrid(df, hue=\"outlier\")\n",
    "g.map_diag(plt.hist)\n",
    "g.map_offdiag(plt.scatter)\n",
    "g = g.add_legend()\n",
    "\n",
    "# Compute the parametric Pearsonw cor test\n",
    "cor, pval = stats.pearsonr(x, y)\n",
    "print(\"Parametric Pearson cor test: cor: %.4f, pval: %.4f\" % (cor, pval))"
   ]
  },
  {
   "cell_type": "markdown",
   "metadata": {},
   "source": [
    "### Wilcoxon signed-rank test (quantitative ~ cte)\n",
    "\n",
    "Source: https://en.wikipedia.org/wiki/Wilcoxon_signed-rank_test\n",
    "\n",
    "The Wilcoxon signed-rank test is a non-parametric statistical hypothesis test used when comparing two related samples, matched samples, or repeated measurements on a single sample to assess whether their population mean ranks differ (i.e. it is a paired difference test). It is equivalent to one-sample test of the difference of paired samples.\n",
    "\n",
    "It can be used as an alternative to the paired Student's $t$-test, $t$-test for matched pairs, or the $t$-test for dependent samples when the population cannot be assumed to be normally distributed.\n",
    "\n",
    "When to use it? Obeserve the data distribution:\n",
    "- presence of outliers\n",
    "- the distribution of the residuals is not Gaussian\n",
    "\n",
    "It has a lower sensitivity compared to $t$-test. May be problematic to use when the sample size is small.\n",
    "\n",
    "Null hypothesis $H_0$: difference between the pairs follows a symmetric distribution around zero."
   ]
  },
  {
   "cell_type": "code",
   "execution_count": 9,
   "metadata": {},
   "outputs": [
    {
     "name": "stdout",
     "output_type": "stream",
     "text": [
      "Ttest_relResult(statistic=0.77854266212061596, pvalue=0.44583743298063039)\n",
      "WilcoxonResult(statistic=26.0, pvalue=0.0031851432686599455)\n"
     ]
    }
   ],
   "source": [
    "import scipy.stats as stats\n",
    "n = 20\n",
    "# Buisness Volume time 0\n",
    "bv0 = np.random.normal(loc=3, scale=.1, size=n)\n",
    "# Buisness Volume time 1\n",
    "bv1 = bv0 + 0.1 + np.random.normal(loc=0, scale=.1, size=n)\n",
    "\n",
    "# create an outlier\n",
    "bv1[0] -= 10\n",
    "\n",
    "# Paired t-test\n",
    "print(stats.ttest_rel(bv0, bv1))\n",
    "\n",
    "# Wilcoxon\n",
    "print(stats.wilcoxon(bv0, bv1))"
   ]
  },
  {
   "cell_type": "markdown",
   "metadata": {},
   "source": [
    "### Mann–Whitney $U$ test (quantitative ~ categorial (2 levels))\n",
    "\n",
    "In statistics, the Mann–Whitney $U$ test (also called the Mann–Whitney–Wilcoxon, Wilcoxon rank-sum test or Wilcoxon–Mann–Whitney test) is a nonparametric test of the null hypothesis that two samples come from the same population against an alternative hypothesis, especially that a particular population tends to have larger values than the other.\n",
    "\n",
    "It can be applied on unknown distributions contrary to e.g. a $t$-test that has to be applied only on normal distributions, and it is nearly as efficient as the $t$-test on normal distributions."
   ]
  },
  {
   "cell_type": "code",
   "execution_count": 11,
   "metadata": {},
   "outputs": [
    {
     "name": "stdout",
     "output_type": "stream",
     "text": [
      "Ttest_indResult(statistic=0.62748520384004158, pvalue=0.53409388734462837)\n",
      "MannwhitneyuResult(statistic=43.0, pvalue=2.3024709881112628e-05)\n"
     ]
    }
   ],
   "source": [
    "import scipy.stats as stats\n",
    "n = 20\n",
    "# Buismess Volume group 0\n",
    "bv0 = np.random.normal(loc=1, scale=.1, size=n)\n",
    "\n",
    "# Buismess Volume group 1\n",
    "bv1 = np.random.normal(loc=1.2, scale=.1, size=n)\n",
    "\n",
    "# create an outlier\n",
    "bv1[0] -= 10\n",
    "\n",
    "# Two-samples t-test\n",
    "print(stats.ttest_ind(bv0, bv1))\n",
    "\n",
    "# Wilcoxon\n",
    "print(stats.mannwhitneyu(bv0, bv1))"
   ]
  },
  {
   "cell_type": "markdown",
   "metadata": {},
   "source": [
    "## Linear model\n",
    "\n",
    "For the regression case, the statistical model is as follows. Given a (random) sample $(y_i, x_{i}^1, \\ldots, x_{i}^p), \\, i = 1, \\ldots, n$ the relation between the observations $y_i$ and the independent variables $x_i^p$ is formulated as\n",
    "\n",
    "$$\n",
    "    y_i = \\beta_0 + \\beta_1 x_{i}^1 + \\cdots + \\beta_p x_{i}^p + \\varepsilon_i \\qquad i = 1, \\ldots, n \n",
    "$$\n",
    "\n",
    "- **An independent variable (IV)** is exactly what it sounds like. It is a variable that stands alone and isn't changed by the other variables you are trying to measure. For example, someone's age might be an independent variable. Other factors (such as what they eat, how much they go to school, how much television they watch) aren't going to change a person's age. In fact, when you are looking for some kind of relationship between variables you are trying to see if the independent variable causes some kind of change in the other variables, or dependent variables. In Machine Learning, these variables are also called the **predictors**.\n",
    "\n",
    "- A **dependent variable** is exactly what it sounds like. It is something that depends on other factors. For example, a test score could be a dependent variable because it could change depending on several factors such as how much you studied, how much sleep you got the night before you took the test, or even how hungry you were when you took it. Usually when you are looking for a relationship between two things you are trying to find out what makes the dependent variable change the way it does. In Machine Learning this variable is called a **target varbiable**."
   ]
  },
  {
   "cell_type": "markdown",
   "metadata": {},
   "source": [
    "### Simple linear regression (one continuous independant variable (IV))\n",
    "\n",
    "Using the dataset \"salary\", explore the association between the dependant variable (e.g. Salary) and the independant variable (e.g.: Experience is quantitative)."
   ]
  },
  {
   "cell_type": "code",
   "execution_count": 11,
   "metadata": {
    "collapsed": true
   },
   "outputs": [],
   "source": [
    "import pandas as pd\n",
    "import matplotlib.pyplot as plt\n",
    "%matplotlib inline\n",
    "\n",
    "url = 'https://raw.github.com/neurospin/pystatsml/master/data/salary_table.csv'\n",
    "salary = pd.read_csv(url)"
   ]
  },
  {
   "cell_type": "markdown",
   "metadata": {},
   "source": [
    "#### 1. Model the data\n",
    "\n",
    "Model the data on some **hypothesis** e.g.: salary is a linear function of the experience.\n",
    "\n",
    "$$\n",
    "    \\text{salary}_i = \\beta~\\text{experience}_i + \\beta_0 + \\epsilon_i,\n",
    "$$\n",
    "\n",
    "more generally\n",
    "\n",
    "$$\n",
    "    y_i = \\beta~x_i + \\beta_0 + \\epsilon_i\n",
    "$$\n",
    "\n",
    "- $\\beta$: the slope or coefficient or parameter of the model,\n",
    "\n",
    "- $\\beta_0$: the **intercept** or **bias** is the second parameter of the model,\n",
    "\n",
    "- $\\epsilon_i$: is the $i$th error, or residual with $\\epsilon \\sim \\mathcal{N}(0, \\sigma^2)$.\n",
    "\n",
    "This model is similar to a correlation.\n",
    "\n",
    "#### 2. Fit: estimate the model parameters\n",
    "\n",
    "The goal it so estimate $\\beta$, $\\beta_0$ and $\\sigma^2$.\n",
    "\n",
    "Minimizes the **mean squared error (MSE)** or the **Sum squared error (SSE)**. The so-called **Ordinary Least Squares (OLS)** finds $\\beta, \\beta_0$ that minimizes the $SSE = \\sum_i \\epsilon_i^2$\n",
    "\n",
    "$$\n",
    "SSE = \\sum_i(y_i - \\beta~x_i - \\beta_0)^2\n",
    "$$\n",
    "\n",
    "Recall from calculus that an extreme point can be found by computing where the derivative is zero, i.e. to find the intercelt, we perform the steps:\n",
    "\n",
    "$$\n",
    "\\frac{\\partial SSE}{\\partial \\beta_0} = \\sum_i(y_i - \\beta~x_i - \\beta_0) = 0\\\\\n",
    "\\sum_i y_i = \\beta~\\sum_i x_i + n~\\beta_0\\\\\n",
    "n~\\bar{y} = n~\\beta~\\bar{x} + n~\\beta_0\\\\\n",
    "\\beta_0 = \\bar{y} - \\beta~\\bar{x}\n",
    "$$\n",
    "\n",
    "To find the regression coefficient, we perform the steps:\n",
    "\n",
    "$$\n",
    "\\frac{\\partial SSE}{\\partial \\beta} = \\sum_i x_i(y_i - \\beta~x_i - \\beta_0) = 0\n",
    "$$\n",
    "\n",
    "Plug in $\\beta_0$:\n",
    "\n",
    "$$\n",
    "\\sum_i x_i(y_i - \\beta~x_i - \\bar{y} + \\beta \\bar{x}) = 0\\\\\n",
    "\\sum_i x_i y_i - \\bar{y}\\sum_i x_i = \\beta \\sum_i(x_i - \\bar{x})\n",
    "$$\n",
    "\n",
    "Divide both sides by $n$:\n",
    "\n",
    "$$\n",
    "\\frac{1}{n}\\sum_i x_i y_i  - \\bar{y}\\bar{x} = \\frac{1}{n}\\beta \\sum_i(x_i - \\bar{x})\\\\\n",
    "\\beta = \\frac{\\frac{1}{n}\\sum_i x_i y_i  - \\bar{y}\\bar{x}}{\\frac{1}{n}\\sum_i(x_i - \\bar{x})} = \\frac{Cov(x, y)}{Var(x)}.\n",
    "$$"
   ]
  },
  {
   "cell_type": "code",
   "execution_count": 12,
   "metadata": {},
   "outputs": [
    {
     "name": "stdout",
     "output_type": "stream",
     "text": [
      "y = 491.486913 x + 13584.043803,  r: 0.538886, r-squared: 0.290398,\n",
      "p-value: 0.000112, std_err: 115.823381\n"
     ]
    },
    {
     "data": {
      "image/png": "[encoded data removed]",
      "text/plain": [
       "<matplotlib.figure.Figure at 0x7ffa47d74eb8>"
      ]
     },
     "metadata": {},
     "output_type": "display_data"
    }
   ],
   "source": [
    "from scipy import stats\n",
    "import numpy as np\n",
    "y, x = salary.salary, salary.experience\n",
    "beta, beta0, r_value, p_value, std_err = stats.linregress(x,y)\n",
    "print(\"y = %f x + %f,  r: %f, r-squared: %f,\\np-value: %f, std_err: %f\" \n",
    "      % (beta, beta0, r_value, r_value**2, p_value, std_err))\n",
    "# plotting the line\n",
    "yhat = beta * x  +  beta0 # regression line\n",
    "plt.plot(x, yhat, 'r-', x, y,'o')\n",
    "plt.xlabel('Experience (years)')\n",
    "plt.ylabel('Salary')\n",
    "plt.show()"
   ]
  },
  {
   "cell_type": "markdown",
   "metadata": {},
   "source": [
    "#### 3. $F$-Test\n",
    "\n",
    "##### 3.1 Goodness of fit\n",
    "\n",
    "The goodness of fit of a statistical model describes how well it fits a set of observations. Measures of goodness of fit typically summarize the discrepancy between observed values and the values expected under the model in question. We will consider the **explained variance**  also known as the coefficient of determination, denoted $R^2$ pronounced **R-squared**.\n",
    "\n",
    "The total sum of squares, $SS_\\text{tot}$ is the sum of the sum of squares explained by the regression, $SS_\\text{reg}$, plus the sum of aquares of residuals unexplained by the regression, $SS_\\text{res}$, also called the SSE, i.e. such that\n",
    "\n",
    "$$\n",
    "SS_\\text{tot} = SS_\\text{reg} + SS_\\text{res}\n",
    "$$\n",
    "\n",
    "![title](images/Coefficient_of_Determination.png)\n",
    "\n",
    "The mean of $y$ is\n",
    "\n",
    "$$\n",
    "\\bar{y} = \\frac{1}{n}\\sum_i y_i.\n",
    "$$\n",
    "\n",
    "The total sum of squares is the total squared sum of deviations from the mean of $y$, i.e.\n",
    "\n",
    "$$\n",
    "SS_\\text{tot}=\\sum_i (y_i-\\bar{y})^2\n",
    "$$\n",
    "\n",
    "The regression sum of squares, also called the explained sum of squares:\n",
    "\n",
    "$$\n",
    "SS_\\text{reg} = \\sum_i (\\hat{y}_i -\\bar{y})^2,\n",
    "$$\n",
    "\n",
    "where $\\hat{y}_i = \\beta x_i + \\beta_0$ is the estimated value of salary $\\hat{y}_i$ given a value of experience $x_i$.\n",
    "\n",
    "The sum of squares of the residuals, also called the residual sum of squares (RSS) is:\n",
    "\n",
    "$$\n",
    "SS_\\text{res}=\\sum_i (y_i - \\hat{y_i})^2.\n",
    "$$\n",
    "\n",
    "$R^2$ is the explained sum of squares of errors. It is the variance explain by the regression divided by the total variance, i.e.\n",
    "\n",
    "$$\n",
    "R^2 = \\frac{\\text{explained SS}}{\\text{total SS}}\n",
    "    = \\frac{SS_\\text{reg}}{SS_{tot}} \n",
    "    = 1 - {SS_{res}\\over SS_{tot}}.\n",
    "$$\n",
    "\n",
    "#####   3.2 Test\n",
    "\n",
    "Let $\\hat{\\sigma}^2 = SS_\\text{res} / (n-2)$ be an estimator of the variance of $\\epsilon$. The $2$ stem from the number of estimated parameters, intercept and coefficient.\n",
    "\n",
    "- **Unexplained variance**: $\\frac{SS_\\text{res}}{\\hat{\\sigma}^2} \\sim \\chi_{n-2}^2$\n",
    "\n",
    "- **Explained variance**: $\\frac{SS_\\text{reg}}{\\hat{\\sigma}^2} \\sim \\chi_{1}^2$. The single degree of freedom comes from the the difference between $\\frac{SS_\\text{tot}}{\\hat{\\sigma}^2} (\\sim \\chi^2_{n-1})$ and $\\frac{SS_\\text{res}}{\\hat{\\sigma}^2} (\\sim \\chi_{n-2}^2)$, i.e. $(n-1) - (n-2)$ degree of freedom.\n",
    "\n",
    "The Fisher statistics of the ratio of two variances:\n",
    "$$\n",
    "    F = \\frac{\\text{Explained variance}}{\\text{Unexplained variance}} = \\frac{SS_\\text{reg} / 1}{ SS_\\text{res} / (n - 2)} \\sim F(1, n-2)\n",
    "$$\n",
    "\n",
    "Using the $F$-distribution, compute the probability of observing a value greater than $F$ under $H_0$, i.e.: $P(x > F|H_0)$, i.e. the survival function $(1 - \\text{Cumulative Distribution Function})$ at $x$ of the given $F$-distribution.\n",
    "\n",
    "####  Exercise\n",
    "\n",
    "Compute:\n",
    "\n",
    "- $\\bar{y}$: `y_mu`\n",
    "\n",
    "- $SS_\\text{tot}$: `ss_tot`\n",
    "\n",
    "- $SS_\\text{reg}$: `ss_reg`\n",
    "\n",
    "- $SS_\\text{res}$: `ss_res`\n",
    "\n",
    "- Check partition of variance formula based on sum of squares by using `assert np.allclose(val1, val2, atol=1e-05)`\n",
    "\n",
    "- Compute $R^2$ and compare it with the `r_value` above\n",
    "\n",
    "- Compute the $F$ score\n",
    "\n",
    "- Compute the $p$-value:\n",
    " *  Plot the $F(1, n)$ distribution for 100 $f$ values within $[10, 25]$. Draw $P(F(1, n) > F)$, i.e. color the surface defined by the $x$ values larger than $F$ below the $F(1, n)$.\n",
    "\n",
    " * $P(F(1, n) > F)$ is the $p$-value, compute it."
   ]
  },
  {
   "cell_type": "markdown",
   "metadata": {},
   "source": [
    "### Multiple regression\n",
    "\n",
    "#### Theory\n",
    "\n",
    "Muliple Linear Regression is the most basic supervised learning algorithm.\n",
    "\n",
    "Given: a set of training data $\\{x_1, ... , x_N\\}$ with corresponding targets $\\{y_1, . . . , y_N\\}$.\n",
    "\n",
    "In linear regression, we assume that the model that generates the data involves only a linear combination of the input variables, i.e.\n",
    "\n",
    "$$\n",
    "y(x_i, \\beta) = \\beta^0 + \\beta^1 x_i^1 + ... + \\beta^P x_i^P,\n",
    "$$\n",
    "\n",
    "or, simplified\n",
    "\n",
    "$$\n",
    "y(x_i, \\beta) = \\beta_0 + \\sum_{j=1}^{P-1} \\beta_j x_i^j.\n",
    "$$\n",
    "\n",
    "Extending each sample with an intercept, $x_i := [1, x_i] \\in R^{P+1}$ allows us to use a more general notation based on linear algebra and write it as a simple dot product:\n",
    "\n",
    "$$\n",
    "y(x_i,\\beta) = x_i^T\\beta,\n",
    "$$\n",
    "\n",
    "where $\\beta \\in R^{P+1}$ is a vector of weights that define the $P+1$ parameters of the model. From now we have $P$ regressors + the intercept.\n",
    "\n",
    "Minimize the Mean Squared Error MSE loss:\n",
    "\n",
    "$$\n",
    "MSE(\\beta) = \\frac{1}{N}\\sum_{i=1}^{N}(y_i - y(x_i,\\beta))^2 = \\frac{1}{N}\\sum_{i=1}^{N}(y_i - x_i^T\\beta)^2\n",
    "$$\n",
    "\n",
    "Let $X = [x_0^T, ... , x_N^T]$ be a $N \\times P+1$ matrix of $N$ samples of $P$ input features with one column of one and let be $y = [y_1, ... , y_N]$ be a vector of the $N$ targets. Then, using linear algebra, the **mean squared error (MSE) loss can be rewritten**:\n",
    "\n",
    "$$\n",
    "MSE(\\beta) = \\frac{1}{N}||y - X\\beta||_2^2.\n",
    "$$\n",
    "\n",
    "The $\\beta$ that minimises the MSE can be found by:\n",
    "\n",
    "\\begin{align}\n",
    "\\nabla_\\beta \\left(\\frac{1}{N} ||y - X\\beta||_2^2\\right) &= 0\\\\\n",
    "\\frac{1}{N}\\nabla_\\beta (y - X\\beta)^T (y - X\\beta) &= 0\\\\\n",
    "\\frac{1}{N}\\nabla_\\beta (y^Ty - 2 \\beta^TX^Ty + \\beta X^TX\\beta) &= 0\\\\\n",
    "    -2X^Ty + 2 X^TX\\beta &= 0\\\\\n",
    "    X^TX\\beta &= X^Ty\\\\\n",
    "    \\beta &= (X^TX)^{-1} X^Ty,\n",
    "\\end{align}\n",
    "\n",
    "where $(X^TX)^{-1} X^T$ is a pseudo inverse of $X$."
   ]
  },
  {
   "cell_type": "markdown",
   "metadata": {},
   "source": [
    "#### Fit with `numpy`"
   ]
  },
  {
   "cell_type": "code",
   "execution_count": 13,
   "metadata": {},
   "outputs": [
    {
     "name": "stdout",
     "output_type": "stream",
     "text": [
      "[[ 1.         -0.1382643   0.64768854  1.52302986]\n",
      " [ 1.         -0.23413696  1.57921282  0.76743473]\n",
      " [ 1.          0.54256004 -0.46341769 -0.46572975]\n",
      " [ 1.         -1.91328024 -1.72491783 -0.56228753]\n",
      " [ 1.          0.31424733 -0.90802408 -1.4123037 ]]\n",
      "Estimated beta:\n",
      " [ 10.14742501   0.57938106   0.51654653   0.17862194]\n"
     ]
    }
   ],
   "source": [
    "import numpy as np\n",
    "import scipy\n",
    "np.random.seed(seed=42)  # make the example reproducible\n",
    "\n",
    "# Dataset\n",
    "N, P = 50, 4\n",
    "X = np.random.normal(size= N * P).reshape((N, P))\n",
    "## Our model needs an intercept so we add a column of 1s:\n",
    "X[:, 0] = 1\n",
    "print(X[:5, :])\n",
    "\n",
    "betastar = np.array([10, 1., .5, 0.1])\n",
    "e = np.random.normal(size=N)\n",
    "y = np.dot(X, betastar) + e\n",
    "\n",
    "# Estimate the parameters\n",
    "Xpinv = scipy.linalg.pinv2(X)\n",
    "betahat = np.dot(Xpinv, y)\n",
    "print(\"Estimated beta:\\n\", betahat)"
   ]
  },
  {
   "cell_type": "markdown",
   "metadata": {},
   "source": [
    "#### Exercise\n",
    "\n",
    "1. What are the dimensions of $\\mathrm{pinv}(X)$?\n",
    "\n",
    "2. Compute the MSE between the predicted values and the true values."
   ]
  },
  {
   "cell_type": "markdown",
   "metadata": {},
   "source": [
    "## Linear model with statsmodels\n",
    "\n",
    "Sources: http://statsmodels.sourceforge.net/devel/examples/"
   ]
  },
  {
   "cell_type": "markdown",
   "metadata": {},
   "source": [
    "### Multiple regression\n",
    "\n",
    "#### Interface with Numpy"
   ]
  },
  {
   "cell_type": "code",
   "execution_count": 14,
   "metadata": {},
   "outputs": [
    {
     "name": "stdout",
     "output_type": "stream",
     "text": [
      "                            OLS Regression Results                            \n",
      "==============================================================================\n",
      "Dep. Variable:                      y   R-squared:                       0.363\n",
      "Model:                            OLS   Adj. R-squared:                  0.322\n",
      "Method:                 Least Squares   F-statistic:                     8.748\n",
      "Date:                Fri, 06 Jan 2017   Prob (F-statistic):           0.000106\n",
      "Time:                        10:42:31   Log-Likelihood:                -71.271\n",
      "No. Observations:                  50   AIC:                             150.5\n",
      "Df Residuals:                      46   BIC:                             158.2\n",
      "Df Model:                           3                                         \n",
      "Covariance Type:            nonrobust                                         \n",
      "==============================================================================\n",
      "                 coef    std err          t      P>|t|      [95.0% Conf. Int.]\n",
      "------------------------------------------------------------------------------\n",
      "const         10.1474      0.150     67.520      0.000         9.845    10.450\n",
      "x1             0.5794      0.160      3.623      0.001         0.258     0.901\n",
      "x2             0.5165      0.151      3.425      0.001         0.213     0.820\n",
      "x3             0.1786      0.144      1.240      0.221        -0.111     0.469\n",
      "==============================================================================\n",
      "Omnibus:                        2.493   Durbin-Watson:                   2.369\n",
      "Prob(Omnibus):                  0.288   Jarque-Bera (JB):                1.544\n",
      "Skew:                           0.330   Prob(JB):                        0.462\n",
      "Kurtosis:                       3.554   Cond. No.                         1.27\n",
      "==============================================================================\n",
      "\n",
      "Warnings:\n",
      "[1] Standard Errors assume that the covariance matrix of the errors is correctly specified.\n"
     ]
    }
   ],
   "source": [
    "import statsmodels.api as sm\n",
    "\n",
    "## Fit and summary:\n",
    "model = sm.OLS(y, X).fit()\n",
    "print(model.summary())\n",
    "\n",
    "# prediction of new values\n",
    "ypred = model.predict(X)\n",
    "\n",
    "# residuals + prediction == true values\n",
    "assert np.all(ypred + model.resid == y)"
   ]
  },
  {
   "cell_type": "markdown",
   "metadata": {},
   "source": [
    "#### Interface with Pandas\n",
    "\n",
    "Use `R` language syntax for data.frame. For an additive model:\n",
    "$y_i = \\beta^0 + x_i^1 \\beta^1 + x_i^2 \\beta^2 + \\epsilon_i \\equiv$ `y ~ x1 + x2`.\n"
   ]
  },
  {
   "cell_type": "code",
   "execution_count": 15,
   "metadata": {},
   "outputs": [
    {
     "name": "stdout",
     "output_type": "stream",
     "text": [
      "                            OLS Regression Results                            \n",
      "==============================================================================\n",
      "Dep. Variable:                      y   R-squared:                       0.363\n",
      "Model:                            OLS   Adj. R-squared:                  0.322\n",
      "Method:                 Least Squares   F-statistic:                     8.748\n",
      "Date:                Fri, 06 Jan 2017   Prob (F-statistic):           0.000106\n",
      "Time:                        10:42:43   Log-Likelihood:                -71.271\n",
      "No. Observations:                  50   AIC:                             150.5\n",
      "Df Residuals:                      46   BIC:                             158.2\n",
      "Df Model:                           3                                         \n",
      "Covariance Type:            nonrobust                                         \n",
      "==============================================================================\n",
      "                 coef    std err          t      P>|t|      [95.0% Conf. Int.]\n",
      "------------------------------------------------------------------------------\n",
      "Intercept     10.1474      0.150     67.520      0.000         9.845    10.450\n",
      "x1             0.5794      0.160      3.623      0.001         0.258     0.901\n",
      "x2             0.5165      0.151      3.425      0.001         0.213     0.820\n",
      "x3             0.1786      0.144      1.240      0.221        -0.111     0.469\n",
      "==============================================================================\n",
      "Omnibus:                        2.493   Durbin-Watson:                   2.369\n",
      "Prob(Omnibus):                  0.288   Jarque-Bera (JB):                1.544\n",
      "Skew:                           0.330   Prob(JB):                        0.462\n",
      "Kurtosis:                       3.554   Cond. No.                         1.27\n",
      "==============================================================================\n",
      "\n",
      "Warnings:\n",
      "[1] Standard Errors assume that the covariance matrix of the errors is correctly specified.\n"
     ]
    }
   ],
   "source": [
    "import statsmodels.formula.api as smfrmla\n",
    "\n",
    "df = pd.DataFrame(np.column_stack([X, y]), columns=['inter', 'x1','x2', 'x3', 'y'])\n",
    "\n",
    "# Build a model excluding the intercept, it is implicit\n",
    "model = smfrmla.ols(\"y ~ x1 + x2 + x3\", df).fit()\n",
    "print(model.summary())"
   ]
  },
  {
   "cell_type": "markdown",
   "metadata": {},
   "source": [
    "### Multiple regression with categorical independent variables or factors: Analysis of covariance (ANCOVA)\n",
    "\n",
    "Analysis of covariance (ANCOVA) is a linear model that blends ANOVA and linear regression. ANCOVA evaluates whether population means of a dependent variable (DV) are equal across levels of a categorical independent variable (IV) often called a treatment, while statistically controlling for the effects of other quantitative or continuous variables that are not of primary interest, known as covariates (CV)."
   ]
  },
  {
   "cell_type": "code",
   "execution_count": 16,
   "metadata": {
    "collapsed": true
   },
   "outputs": [],
   "source": [
    "import pandas as pd\n",
    "import matplotlib.pyplot as plt\n",
    "%matplotlib inline\n",
    "\n",
    "try:\n",
    "    salary = pd.read_csv(\"../data/salary_table.csv\")\n",
    "except:\n",
    "    url = 'https://raw.github.com/neurospin/pystatsml/master/data/salary_table.csv'\n",
    "    salary = pd.read_csv(url)"
   ]
  },
  {
   "cell_type": "markdown",
   "metadata": {},
   "source": [
    "#### One-way AN(C)OVA\n",
    "\n",
    "- ANOVA: one categorical independent variable, i.e. one factor.\n",
    "\n",
    "- ANCOVA: ANOVA with some covariates."
   ]
  },
  {
   "cell_type": "code",
   "execution_count": 24,
   "metadata": {},
   "outputs": [
    {
     "name": "stdout",
     "output_type": "stream",
     "text": [
      "                            OLS Regression Results                            \n",
      "==============================================================================\n",
      "Dep. Variable:                 salary   R-squared:                       0.865\n",
      "Model:                            OLS   Adj. R-squared:                  0.859\n",
      "Method:                 Least Squares   F-statistic:                     138.2\n",
      "Date:                Fri, 06 Jan 2017   Prob (F-statistic):           1.90e-19\n",
      "Time:                        10:45:13   Log-Likelihood:                -407.76\n",
      "No. Observations:                  46   AIC:                             821.5\n",
      "Df Residuals:                      43   BIC:                             827.0\n",
      "Df Model:                           2                                         \n",
      "Covariance Type:            nonrobust                                         \n",
      "===================================================================================\n",
      "                      coef    std err          t      P>|t|      [95.0% Conf. Int.]\n",
      "-----------------------------------------------------------------------------------\n",
      "Intercept        1.021e+04    525.999     19.411      0.000      9149.578  1.13e+04\n",
      "management[T.Y]  7145.0151    527.320     13.550      0.000      6081.572  8208.458\n",
      "experience        527.1081     51.106     10.314      0.000       424.042   630.174\n",
      "==============================================================================\n",
      "Omnibus:                       11.437   Durbin-Watson:                   2.193\n",
      "Prob(Omnibus):                  0.003   Jarque-Bera (JB):               11.260\n",
      "Skew:                          -1.131   Prob(JB):                      0.00359\n",
      "Kurtosis:                       3.872   Cond. No.                         22.4\n",
      "==============================================================================\n",
      "\n",
      "Warnings:\n",
      "[1] Standard Errors assume that the covariance matrix of the errors is correctly specified.\n",
      "                  sum_sq    df           F        PR(>F)\n",
      "management  5.755739e+08   1.0  183.593466  4.054116e-17\n",
      "experience  3.334992e+08   1.0  106.377768  3.349662e-13\n",
      "Residual    1.348070e+08  43.0         NaN           NaN\n"
     ]
    }
   ],
   "source": [
    "import statsmodels.formula.api as smfrmla\n",
    "\n",
    "oneway = smfrmla.ols('salary ~ management + experience', salary).fit()\n",
    "print(oneway.summary())\n",
    "aov = sm.stats.anova_lm(oneway, typ=2) # Type 2 ANOVA DataFrame\n",
    "print(aov)"
   ]
  },
  {
   "cell_type": "markdown",
   "metadata": {
    "collapsed": true
   },
   "source": [
    "#### Two-way AN(C)OVA\n",
    "\n",
    "Ancova with two categorical independent variables, i.e. two factors."
   ]
  },
  {
   "cell_type": "code",
   "execution_count": 25,
   "metadata": {},
   "outputs": [
    {
     "name": "stdout",
     "output_type": "stream",
     "text": [
      "                            OLS Regression Results                            \n",
      "==============================================================================\n",
      "Dep. Variable:                 salary   R-squared:                       0.957\n",
      "Model:                            OLS   Adj. R-squared:                  0.953\n",
      "Method:                 Least Squares   F-statistic:                     226.8\n",
      "Date:                Fri, 06 Jan 2017   Prob (F-statistic):           2.23e-27\n",
      "Time:                        10:45:17   Log-Likelihood:                -381.63\n",
      "No. Observations:                  46   AIC:                             773.3\n",
      "Df Residuals:                      41   BIC:                             782.4\n",
      "Df Model:                           4                                         \n",
      "Covariance Type:            nonrobust                                         \n",
      "=======================================================================================\n",
      "                          coef    std err          t      P>|t|      [95.0% Conf. Int.]\n",
      "---------------------------------------------------------------------------------------\n",
      "Intercept            8035.5976    386.689     20.781      0.000      7254.663  8816.532\n",
      "education[T.Master]  3144.0352    361.968      8.686      0.000      2413.025  3875.045\n",
      "education[T.Ph.D]    2996.2103    411.753      7.277      0.000      2164.659  3827.762\n",
      "management[T.Y]      6883.5310    313.919     21.928      0.000      6249.559  7517.503\n",
      "experience            546.1840     30.519     17.896      0.000       484.549   607.819\n",
      "==============================================================================\n",
      "Omnibus:                        2.293   Durbin-Watson:                   2.237\n",
      "Prob(Omnibus):                  0.318   Jarque-Bera (JB):                1.362\n",
      "Skew:                          -0.077   Prob(JB):                        0.506\n",
      "Kurtosis:                       2.171   Cond. No.                         33.5\n",
      "==============================================================================\n",
      "\n",
      "Warnings:\n",
      "[1] Standard Errors assume that the covariance matrix of the errors is correctly specified.\n",
      "                  sum_sq    df           F        PR(>F)\n",
      "education   9.152624e+07   2.0   43.351589  7.672450e-11\n",
      "management  5.075724e+08   1.0  480.825394  2.901444e-24\n",
      "experience  3.380979e+08   1.0  320.281524  5.546313e-21\n",
      "Residual    4.328072e+07  41.0         NaN           NaN\n"
     ]
    }
   ],
   "source": [
    "import statsmodels.formula.api as smfrmla\n",
    "\n",
    "twoway = smfrmla.ols('salary ~ education + management + experience', salary).fit()\n",
    "print(twoway.summary())\n",
    "aov = sm.stats.anova_lm(twoway, typ=2) # Type 2 ANOVA DataFrame\n",
    "print(aov)"
   ]
  },
  {
   "cell_type": "markdown",
   "metadata": {},
   "source": [
    "#### Comparing two nested models\n",
    "\n",
    "`oneway` is nested within `twoway`.  Comparing two nested models tells us if the additional predictors (i.e. `education`) of the full model significantly decrease the residuals. Such comparison can be done using an $F$-test on residuals:"
   ]
  },
  {
   "cell_type": "code",
   "execution_count": 28,
   "metadata": {},
   "outputs": [
    {
     "name": "stdout",
     "output_type": "stream",
     "text": [
      "(43.351589459181056, 7.6724495704954452e-11, 2.0)\n"
     ]
    }
   ],
   "source": [
    "print(twoway.compare_f_test(oneway))  # return F, pval, df"
   ]
  },
  {
   "cell_type": "markdown",
   "metadata": {},
   "source": [
    "#### Factor coding\n",
    "\n",
    "See http://statsmodels.sourceforge.net/devel/contrasts.html\n",
    "\n",
    "By default Pandas use \"dummy coding\". Explore:"
   ]
  },
  {
   "cell_type": "code",
   "execution_count": 21,
   "metadata": {},
   "outputs": [
    {
     "name": "stdout",
     "output_type": "stream",
     "text": [
      "['Intercept', 'education[T.Master]', 'education[T.Ph.D]', 'management[T.Y]', 'experience']\n",
      "[[ 1.  0.  0.  1.  1.]\n",
      " [ 1.  0.  1.  0.  1.]\n",
      " [ 1.  0.  1.  1.  1.]\n",
      " [ 1.  1.  0.  0.  1.]\n",
      " [ 1.  0.  1.  0.  1.]\n",
      " [ 1.  1.  0.  1.  2.]\n",
      " [ 1.  1.  0.  0.  2.]\n",
      " [ 1.  0.  0.  0.  2.]\n",
      " [ 1.  0.  1.  0.  2.]\n",
      " [ 1.  1.  0.  0.  3.]]\n"
     ]
    }
   ],
   "source": [
    "print(twoway.model.data.param_names)\n",
    "print(twoway.model.data.exog[:10, :])"
   ]
  },
  {
   "cell_type": "markdown",
   "metadata": {},
   "source": [
    "#### Contrasts and post-hoc tests"
   ]
  },
  {
   "cell_type": "code",
   "execution_count": 22,
   "metadata": {},
   "outputs": [
    {
     "name": "stdout",
     "output_type": "stream",
     "text": [
      "                             Test for Constraints                             \n",
      "==============================================================================\n",
      "                 coef    std err          t      P>|t|      [95.0% Conf. Int.]\n",
      "------------------------------------------------------------------------------\n",
      "c0           546.1840     30.519     17.896      0.000       484.549   607.819\n",
      "==============================================================================\n",
      "                             Test for Constraints                             \n",
      "==============================================================================\n",
      "                 coef    std err          t      P>|t|      [95.0% Conf. Int.]\n",
      "------------------------------------------------------------------------------\n",
      "c0           147.8249    387.659      0.381      0.705      -635.069   930.719\n",
      "==============================================================================\n"
     ]
    }
   ],
   "source": [
    "# t-test of the specific contribution of experience:\n",
    "ttest_exp = twoway.t_test([0, 0, 0, 0, 1])\n",
    "ttest_exp.pvalue, ttest_exp.tvalue\n",
    "print(ttest_exp)\n",
    "\n",
    "# Alternatively, you can specify the hypothesis tests using a string\n",
    "twoway.t_test('experience')\n",
    "\n",
    "# Post-hoc is salary of Master different salary of Ph.D? \n",
    "# ie. t-test salary of Master = salary of Ph.D.\n",
    "print(twoway.t_test('education[T.Master] = education[T.Ph.D]'))"
   ]
  },
  {
   "cell_type": "markdown",
   "metadata": {},
   "source": [
    "## Multiple comparisons"
   ]
  },
  {
   "cell_type": "code",
   "execution_count": 20,
   "metadata": {},
   "outputs": [
    {
     "data": {
      "image/png": "[encoded data removed]",
      "text/plain": [
       "<matplotlib.figure.Figure at 0x7ffa4050ad30>"
      ]
     },
     "metadata": {},
     "output_type": "display_data"
    }
   ],
   "source": [
    "import numpy as np\n",
    "np.random.seed(seed=42)  # make example reproducible\n",
    "\n",
    "# Dataset\n",
    "n_samples, n_features = 100, 1000\n",
    "n_info = int(n_features/10)  # number of features with information\n",
    "n1, n2 = int(n_samples/2), n_samples - int(n_samples/2)\n",
    "snr = .5\n",
    "Y = np.random.randn(n_samples, n_features)\n",
    "grp = np.array([\"g1\"] * n1 + [\"g2\"] * n2)\n",
    "\n",
    "# Add some group effect for Pinfo features\n",
    "Y[grp==\"g1\", :n_info] += snr\n",
    "\n",
    "# \n",
    "import scipy.stats as stats\n",
    "import matplotlib.pyplot as plt\n",
    "tvals, pvals = np.full(n_features, np.NAN), np.full(n_features, np.NAN)\n",
    "for j in range(n_features):\n",
    "    tvals[j], pvals[j] = stats.ttest_ind(Y[grp==\"g1\", j], Y[grp==\"g2\", j],\n",
    "                                         equal_var=True)\n",
    "\n",
    "fig, axis = plt.subplots(3, 1)#, sharex='col')\n",
    "\n",
    "axis[0].plot(range(n_features), tvals, 'o')\n",
    "axis[0].set_ylabel(\"t-value\")\n",
    "\n",
    "axis[1].plot(range(n_features), pvals, 'o')\n",
    "axis[1].axhline(y=0.05, color='red', linewidth=3, label=\"p-value=0.05\")\n",
    "#axis[1].axhline(y=0.05, label=\"toto\", color='red')\n",
    "axis[1].set_ylabel(\"p-value\")\n",
    "axis[1].legend()\n",
    "\n",
    "axis[2].hist([pvals[n_info:], pvals[:n_info]], \n",
    "    stacked=True, bins=100, label=[\"Negatives\", \"Positives\"])\n",
    "axis[2].set_xlabel(\"p-value histogram\")\n",
    "axis[2].set_ylabel(\"density\")\n",
    "axis[2].legend()\n",
    "\n",
    "plt.tight_layout()"
   ]
  },
  {
   "cell_type": "markdown",
   "metadata": {},
   "source": [
    "Note that under the null hypothesis the distribution of the *p*-values is uniform.\n",
    "\n",
    "Statistical measures:\n",
    "\n",
    "- **True Positive (TP)** eqvalent to a hit. The test correctly concludes the presence of an effect.\n",
    "\n",
    "- True Negative (TN). The test correctly concludes the absence of an effect.\n",
    "\n",
    "- **False Positive (FP)** eqvalent to a false alarm, **Type I error**. The test improperly concludes the presence of an effect. Thresholding at $p\\text{-value} < 0.05$ leads to 47 FP.\n",
    "\n",
    "- False Negative (FN) eqvalent to a miss, Type II error. The test improperly concludes the absence of an effect."
   ]
  },
  {
   "cell_type": "code",
   "execution_count": 24,
   "metadata": {},
   "outputs": [
    {
     "name": "stdout",
     "output_type": "stream",
     "text": [
      "No correction, FP: 47 (exepected: 45.00), TP: 71\n"
     ]
    }
   ],
   "source": [
    "P, N = n_info, n_features - n_info  # Positives, Negatives\n",
    "TP = np.sum(pvals[:n_info ] < 0.05)  # True Positives\n",
    "FP = np.sum(pvals[n_info: ] < 0.05)  # False Positives\n",
    "print(\"No correction, FP: %i (exepected: %.2f), TP: %i\" % (FP, N * 0.05, TP))"
   ]
  },
  {
   "cell_type": "markdown",
   "metadata": {},
   "source": [
    "### Bonferroni correction for multiple comparisons\n",
    "\n",
    "The Bonferroni correction is based on the idea that if an experimenter is testing $P$ hypotheses, then one way of maintaining the familywise error rate (FWER) is to test each individual hypothesis at a statistical significance level of $1/P$ times the desired maximum overall level.\n",
    "\n",
    "So, if the desired significance level for the whole family of tests is $\\alpha$ (usually 0.05), then the Bonferroni correction would test each individual hypothesis at a significance level of $\\alpha/P$. For example, if a trial is testing $P = 8$ hypotheses with a desired $\\alpha = 0.05$, then the Bonferroni correction would test each individual hypothesis at $\\alpha = 0.05/8 = 0.00625$."
   ]
  },
  {
   "cell_type": "code",
   "execution_count": 25,
   "metadata": {},
   "outputs": [
    {
     "name": "stdout",
     "output_type": "stream",
     "text": [
      "FWER correction, FP: 0, TP: 6\n"
     ]
    }
   ],
   "source": [
    "import statsmodels.sandbox.stats.multicomp as multicomp\n",
    "_, pvals_fwer, _, _  = multicomp.multipletests(pvals, alpha=0.05, \n",
    "                                               method='bonferroni')\n",
    "TP = np.sum(pvals_fwer[:n_info ] < 0.05)  # True Positives\n",
    "FP = np.sum(pvals_fwer[n_info: ] < 0.05)  # False Positives\n",
    "print(\"FWER correction, FP: %i, TP: %i\" % (FP, TP))"
   ]
  },
  {
   "cell_type": "markdown",
   "metadata": {},
   "source": [
    "### The False discovery rate (FDR) correction for multiple comparisons\n",
    "\n",
    "FDR-controlling procedures are designed to control the expected proportion of rejected null hypotheses that were incorrect rejections (\"false discoveries\"). FDR-controlling procedures provide less stringent control of Type I errors compared to the familywise error rate (FWER) controlling procedures (such as the Bonferroni correction), which control the probability of at least one Type I error. Thus, FDR-controlling procedures have greater power, at the cost of increased rates of Type I errors."
   ]
  },
  {
   "cell_type": "code",
   "execution_count": 26,
   "metadata": {},
   "outputs": [
    {
     "name": "stdout",
     "output_type": "stream",
     "text": [
      "FDR correction, FP: 3, TP: 20\n"
     ]
    }
   ],
   "source": [
    "import statsmodels.sandbox.stats.multicomp as multicomp\n",
    "_, pvals_fdr, _, _  = multicomp.multipletests(pvals, alpha=0.05, \n",
    "                                               method='fdr_bh')\n",
    "TP = np.sum(pvals_fdr[:n_info ] < 0.05)  # True Positives\n",
    "FP = np.sum(pvals_fdr[n_info: ] < 0.05)  # False Positives\n",
    "\n",
    "print(\"FDR correction, FP: %i, TP: %i\" % (FP, TP))"
   ]
  },
  {
   "cell_type": "markdown",
   "metadata": {},
   "source": [
    "## Exercise\n",
    "\n",
    "This exercice has 2 goals: apply you knowledge of statistics using vectorized numpy operations.\n",
    "Given the dataset provided for multpple comparison, compute the two-sample $t$-test (assuming equal variance) for each (column) feature of `Y` given the two groups defined by `grp`. You should return two vectors of size `n_features`: one for the $t$-values and one for the $p$-values."
   ]
  }
 ],
 "metadata": {
  "anaconda-cloud": {},
  "kernelspec": {
   "display_name": "Python [default]",
   "language": "python",
   "name": "python2"
  },
  "language_info": {
   "codemirror_mode": {
    "name": "ipython",
    "version": 2
   },
   "file_extension": ".py",
   "mimetype": "text/x-python",
   "name": "python",
   "nbconvert_exporter": "python",
   "pygments_lexer": "ipython2",
   "version": "2.7.13"
  }
 },
 "nbformat": 4,
 "nbformat_minor": 1
}
